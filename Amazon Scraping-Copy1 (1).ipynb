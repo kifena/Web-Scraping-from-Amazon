{
 "cells": [
  {
   "cell_type": "code",
   "execution_count": 1,
   "metadata": {},
   "outputs": [],
   "source": [
    "import pandas as pd\n",
    "from bs4 import BeautifulSoup \n",
    "from selenium import webdriver\n",
    "import lxml\n",
    "import lxml.html.soupparser\n",
    "import re\n",
    "import requests\n",
    "import json\n",
    "import random"
   ]
  },
  {
   "cell_type": "code",
   "execution_count": 2,
   "metadata": {},
   "outputs": [],
   "source": [
    "#what i have to do:\n",
    "  #  1. make functions out of the pieces of code that i already have here\n",
    "  #  2. write comments for the things i do here\n",
    "  #  3. understand how to output in the JSON format\n",
    "  # 4. make it output info in the JSON format\n",
    "  #  5. load the code on repl.it\n",
    "  #  6. test on different items\n",
    "  #  7. improve speed"
   ]
  },
  {
   "cell_type": "code",
   "execution_count": 3,
   "metadata": {},
   "outputs": [],
   "source": [
    "# identifying the variables\n",
    "products = []\n",
    "headers = {\n",
    "        'accept-encoding': 'gzip, deflate, sdch, br',\n",
    "        'accept-language': 'en-US,en;q=0.8,zh-CN;q=0.6,zh;q=0.4',\n",
    "        'upgrade-insecure-requests': '1',\n",
    "        'user-agent': 'Mozilla/5.0 (X11; Linux x86_64) AppleWebKit/537.36 (KHTML, like Gecko) Chrome/56.0.2924.87 Safari/537.36',\n",
    "        'accept': 'text/html,application/xhtml+xml,application/xml;q=0.9,image/webp,*/*;q=0.8',\n",
    "        'cache-control': 'max-age=0',\n",
    "    }\n",
    "base_url = \"https://www.amazon.com/s?k=\"\n",
    "#proxies_list = [\"128.199.109.241:8080\",\"113.53.230.195:3128\",\"125.141.200.53:80\",\"125.141.200.14:80\",\"128.199.200.112:138\",\"149.56.123.99:3128\",\"128.199.200.112:80\",\"125.141.200.39:80\",\"134.213.29.202:4444\"]\n",
    "#proxies = {'https': random.choice(proxies_list)}"
   ]
  },
  {
   "cell_type": "code",
   "execution_count": 4,
   "metadata": {},
   "outputs": [],
   "source": [
    "# function to gather the links to the products' pages\n",
    "def linkc(item):\n",
    "    # put together the url to scrape from\n",
    "    url = base_url + item\n",
    "    print('begin scraping the data', url)\n",
    "    # get the page data\n",
    "    request = requests.get(url, headers=headers)\n",
    "    soup = BeautifulSoup(request.text, 'lxml')\n",
    "    #print(soup)\n",
    "    body = soup.find('body')\n",
    "    main_outlet = body.find('div',{'class':\"s-main-slot s-result-list s-search-results sg-row\"})\n",
    "    #print(main_outlet)\n",
    "    links = main_outlet.find_all('a',{'class':'a-link-normal a-text-normal'})\n",
    "    # get the links to pages\n",
    "    for i in links:\n",
    "        products.append('https://www.amazon.com' + i.get('href'))\n",
    "#print(products[2])\n",
    "#print(products)"
   ]
  },
  {
   "cell_type": "code",
   "execution_count": null,
   "metadata": {},
   "outputs": [],
   "source": []
  },
  {
   "cell_type": "code",
   "execution_count": 19,
   "metadata": {},
   "outputs": [],
   "source": [
    "# lists to store the data\n",
    "prices = []\n",
    "review_nums = []\n",
    "review_scores = []\n",
    "stock = []\n",
    "titles = []\n",
    "imgs = []\n",
    "k = 1\n",
    "def pagec(products,prices,review_nums,review_scores,stock,titles,imgs,k):\n",
    "    # begin scraping\n",
    "    for page in products:\n",
    "        print('begin scrapping the product page: ', page)\n",
    "        print('page number',k,'--- left:',len(products)-k)\n",
    "        k = k + 1\n",
    "\n",
    "        # get the page\n",
    "        request = requests.get(page, headers=headers)\n",
    "        soup1 = BeautifulSoup(request.text, 'lxml')\n",
    "        #print(soup1)\n",
    "        #body1 = soup1.find('body')\n",
    "\n",
    "        # get the title of the item\n",
    "        titles.append(soup1.find(id='productTitle').get_text().strip())\n",
    "        print('the title:',titles[-1])\n",
    "\n",
    "        # get the price\n",
    "        try:\n",
    "            prices.append(float(soup1.find('span',{'id':re.compile('^priceblock_')}).get_text().replace('$', '').replace(',', '.').strip()))\n",
    "        except:\n",
    "            try:\n",
    "                prices.append(float(soup1.find('span',{'class':re.compile('^price')}).get_text().replace('$', '').replace(',', '.').strip()))\n",
    "            except:\n",
    "                prices.append('')\n",
    "        print('the price:',prices[-1],'$')\n",
    "\n",
    "        # review score\n",
    "        #review_scores.append(float(soup1.select('.a-star-4-5')[0].get_text().split(' ')[0].replace(\",\", \".\")))\n",
    "        review_scores.append(float(soup1.find('span',{'class':'a-icon-alt'}).get_text().strip()[:3]))\n",
    "        print('review score:',review_scores[-1])\n",
    "\n",
    "        # how many reviews\n",
    "        review_nums.append(int(soup1.select('#acrCustomerReviewText')[0].get_text().split(' ')[0].replace(\".\", \"\").replace(\",\",\"\")))\n",
    "        print('the number of reviews:', review_nums[-1])\n",
    "\n",
    "        # whether it is available\n",
    "        try:\n",
    "            soup1.select('#availability .a-color-state')[0].get_text().strip()\n",
    "            stock.append('Out of Stock')\n",
    "        except:\n",
    "            stock.append('Available')\n",
    "        print(stock[-1])\n",
    "\n",
    "         # get the link to the source image\n",
    "        try:\n",
    "            imgs.append(soup1.find('img',{'alt':titles[-1]}).get('data-old-hires').strip())\n",
    "        except:\n",
    "            imgs.append('')\n",
    "        print('link to the image:',imgs[-1])"
   ]
  },
  {
   "cell_type": "code",
   "execution_count": 20,
   "metadata": {},
   "outputs": [
    {
     "name": "stdout",
     "output_type": "stream",
     "text": [
      "men sunglasses\n",
      "begin scraping the data https://www.amazon.com/s?k=men+sunglasses\n",
      "begin scrapping the product page:  https://www.amazon.com/gp/slredirect/picassoRedirect.html/ref=pa_sp_atf_aps_sr_pg1_1?ie=UTF8&adId=A003621531BDYFXBSBD74&url=%2FANYLUV-Sunglasses-Semi-Rimless-Glasses%25EF%25BC%2588No-Polarized%25EF%25BC%2589%2Fdp%2FB08B8TDCZ8%2Fref%3Dsr_1_1_sspa%3Fdchild%3D1%26keywords%3Dmen%2Bsunglasses%26qid%3D1598190461%26sr%3D8-1-spons%26psc%3D1&qualifier=1598190460&id=3452506129125195&widgetName=sp_atf\n",
      "page number 1 --- left: 512\n",
      "the title: Polarized Sunglasses Classic Men Women Retro Brand Designer Sun Glasses（No Slip, No Bounce, All Polarized）\n",
      "the price: 15.99 $\n",
      "review score: 4.7\n",
      "the number of reviews: 16\n",
      "Available\n",
      "link to the image: https://images-na.ssl-images-amazon.com/images/I/61GMidiixmL._AC_UL1500_.jpg\n",
      "begin scrapping the product page:  https://www.amazon.com/gp/slredirect/picassoRedirect.html/ref=pa_sp_atf_aps_sr_pg1_1?ie=UTF8&adId=A03609742814H7MC76WIU&url=%2FATTCL-Driving-Polarized-Sunglasses-18587black%2Fdp%2FB01B1D12B0%2Fref%3Dsr_1_2_sspa%3Fdchild%3D1%26keywords%3Dmen%2Bsunglasses%26qid%3D1598190461%26sr%3D8-2-spons%26psc%3D1&qualifier=1598190460&id=3452506129125195&widgetName=sp_atf\n",
      "page number 2 --- left: 511\n",
      "the title: ATTCL Men's Retro Metal Frame Driving Polarized Sunglasses For Men\n",
      "the price: 25.0 $\n",
      "review score: 4.4\n",
      "the number of reviews: 3126\n",
      "Available\n",
      "link to the image: https://images-na.ssl-images-amazon.com/images/I/71mn3Iv6faL._AC_UL1500_.jpg\n",
      "begin scrapping the product page:  https://www.amazon.com/gp/slredirect/picassoRedirect.html/ref=pa_sp_atf_aps_sr_pg1_1?ie=UTF8&adId=A07470492E6DIQVWY2J9V&url=%2FPolarized-Sunglasses-Cycling-Driving-Protection%2Fdp%2FB07MQTGLBF%2Fref%3Dsr_1_3_sspa%3Fdchild%3D1%26keywords%3Dmen%2Bsunglasses%26qid%3D1598190461%26sr%3D8-3-spons%26psc%3D1&qualifier=1598190460&id=3452506129125195&widgetName=sp_atf\n",
      "page number 3 --- left: 510\n",
      "the title: Sports Polarized Sunglasses For Men Cycling Driving Fishing 100% UV Protection\n",
      "the price: 19.97 $\n",
      "review score: 4.5\n",
      "the number of reviews: 3015\n",
      "Available\n",
      "link to the image: https://images-na.ssl-images-amazon.com/images/I/71cIY9yTMCL._AC_UL1500_.jpg\n",
      "begin scrapping the product page:  https://www.amazon.com/gp/slredirect/picassoRedirect.html/ref=pa_sp_atf_aps_sr_pg1_1?ie=UTF8&adId=A0030210U7Z2EAVC65ZI&url=%2FDUCO-Rectangular-Polarized-Sunglasses-Gunmetal%2Fdp%2FB07DNVS5R3%2Fref%3Dsr_1_4_sspa%3Fdchild%3D1%26keywords%3Dmen%2Bsunglasses%26qid%3D1598190461%26sr%3D8-4-spons%26psc%3D1&qualifier=1598190460&id=3452506129125195&widgetName=sp_atf\n",
      "page number 4 --- left: 509\n",
      "the title: DUCO Men's Luxury Carbon Fiber Temple Polarized Sunglasses for Men Sports UV400 DC8206\n",
      "the price: 35.0 $\n",
      "review score: 4.4\n",
      "the number of reviews: 1676\n",
      "Available\n",
      "link to the image: https://images-na.ssl-images-amazon.com/images/I/71WmGwywafL._AC_UL1500_.jpg\n",
      "begin scrapping the product page:  https://www.amazon.com/SUNGAIT-Lightweight-Rectangular-Sunglasses-Protection/dp/B01LYQK0YX/ref=sr_1_5?dchild=1&keywords=men+sunglasses&qid=1598190461&sr=8-5\n",
      "page number 5 --- left: 508\n",
      "the title: SUNGAIT Ultra Lightweight Rectangular Polarized Sunglasses UV400 Protection\n",
      "the price: 15.99 $\n",
      "review score: 4.6\n",
      "the number of reviews: 12417\n",
      "Available\n",
      "link to the image: https://images-na.ssl-images-amazon.com/images/I/61PmcMlhksL._AC_UL1500_.jpg\n",
      "begin scrapping the product page:  https://www.amazon.com/Polarized-Sunglasses-Men-Retro-black-matte/dp/B07K7BVXZG/ref=sr_1_6?dchild=1&keywords=men+sunglasses&qid=1598190461&sr=8-6\n",
      "page number 6 --- left: 507\n",
      "the title: Polarized Sunglasses for Men Retro - FEIDU Polarized Retro Sunglasses for Men FD2149\n",
      "the price: 11.98 $\n",
      "review score: 4.4\n",
      "the number of reviews: 3033\n",
      "Available\n",
      "link to the image: https://images-na.ssl-images-amazon.com/images/I/61zL8epmQtL._AC_UL1100_.jpg\n",
      "begin scrapping the product page:  https://www.amazon.com/MERRYS-Polarized-Aluminum-Sunglasses-Vintage/dp/B01M311ACN/ref=sr_1_7?dchild=1&keywords=men+sunglasses&qid=1598190461&sr=8-7\n",
      "page number 7 --- left: 506\n",
      "the title: MERRY'S Unisex Polarized Aluminum Sunglasses Vintage Sun Glasses For Men/Women S8286\n",
      "the price: 12.91 $\n",
      "review score: 4.5\n",
      "the number of reviews: 13441\n",
      "Available\n",
      "link to the image: https://images-na.ssl-images-amazon.com/images/I/61ZhLl-4JPL._AC_UL1500_.jpg\n"
     ]
    }
   ],
   "source": [
    "# get the input\n",
    "item = input()\n",
    "# lowercase the input and format it\n",
    "item = item.lower().strip().replace(' ','+')\n",
    "# run the functions\n",
    "linkc(item)\n",
    "pagec(products,prices,review_nums,review_scores,stock,titles,imgs,k)"
   ]
  },
  {
   "cell_type": "code",
   "execution_count": 59,
   "metadata": {},
   "outputs": [
    {
     "name": "stdout",
     "output_type": "stream",
     "text": [
      "['RIVBOS Polarized Sports Sunglasses for Women Men Driving shades Cycling Running Rb833', 'SOJOS Classic Round Retro Plastic Frame Vintage Large Sunglasses BLOSSOM SJ2067', 'SOJOS Polarized Sunglasses Classic Small Round Metal Frame for Women Men SJ1014', 'SUNGAIT Vintage Round Sunglasses for Women Classic Retro Designer Style', 'SOJOS Small Square Polarized Sunglasses for Men and Women Polygon Mirrored Lens SJ1072', 'SUNGAIT Ultra Lightweight Rectangular Polarized Sunglasses UV400 Protection', 'SOJOS Fashion Round Sunglasses for Women Men Oversized Vintage Shades SJ2057', 'WearMe Pro - Reflective Lens Round Trendy Sunglasses', \"Polarspex Polarized 80's Retro Classic Trendy Stylish Sunglasses for Men Women\", 'Sunglasses for Women Men Polarized uv Protection Wearpro Fashion Vintage Round Classic Retro Aviator Mirrored Sun glasses', \"MERRY'S Unisex Polarized Aluminum Sunglasses Vintage Sun Glasses For Men/Women S8286\", 'SOJOS Classic Aviator Mirrored Flat Lens Sunglasses Metal Frame with Spring Hinges SJ1030', 'HULISLEM S1 Sport Polarized Sunglasses', 'Joopin Unisex Polarized Sunglasses Men Women Retro Designer Sun Glasses', 'MOORAY Mens Sports Polarized Sunglasses UV Protection Fashion Sunglasses for Men Fishing Driving', 'Sunglasses for Women Men Polarized uv Protection Wearpro Fashion Vintage Round Classic Retro Aviator Mirrored Sun glasses', 'SOJOS Classic Square Polarized Sunglasses Unisex UV400 Mirrored Glasses SJ2050', 'SOJOS Classic Retro Round Polarized Sunglasses UV400 Mirrored Lens SJ2069 ALL ME', 'WOWSUN Polarized Sunglasses for Women Vintage Retro Round Mirrored Lens', 'SOJOS Small Square Polarized Sunglasses for Men and Women Polygon Mirrored Lens SJ1072', 'Polarized Sunglasses for Men and Women Semi-Rimless Frame Driving Sun glasses 100% UV Blocking', \"MERRY'S Unisex Polarized Aluminum Sunglasses Vintage Sun Glasses For Men/Women S8286\", 'BUTABY Rectangle Sunglasses for Women Retro Driving Glasses 90’s Vintage Fashion Narrow Square Frame UV400 Protection', 'Sunglasses for Women Men Polarized uv Protection Wearpro Fashion Vintage Round Classic Retro Aviator Mirrored Sun glasses', 'LECKIRUT Oversized Sunglasses for Women Polarized UV Protection Classic Fashion Ladies Shades', 'Mosanana Square Cateye Sunglasses for Women Fashion Trendy Style MS51801', 'Ray-Ban Rb2132 New Wayfarer Sunglasses', 'SOJOS Fashion Round Sunglasses for Women with Rivet Plastic Frame DOLPHIN SJ2068', 'GRFISIA Square Oversized Sunglasses for Women Men Flat Top Fashion Shades', 'Under Armour Igniter Sunglasses Oval', 'Bose Frames - Audio Sunglasses with Open Ear Headphones, Black, with Bluetooth Connectivity', 'Livhò Sunglasses for Men Women Aviator Polarized Metal Mirror UV 400 Lens Protection', 'SOJOS Small Retro Round Polarized Sunglasses UV400 Double Bridge Sunnies SUNSET SJ1104', 'Under Armour Assist Sunglasses Square', 'Maui Jim Peahi Wrap Sunglasses', 'Ray-Ban Rb3647n Round Double Bridge Sunglasses', 'ZILLERATE TR90 Polarized Sports Sunglasses, Running Golf Driving Fishing Cycling', 'WOOLIKE Polarized Sports Sunglasses for Men Cycling Running Driving Fishing Golf Baseball Sunglasses RB-801', 'Joopin Semi Rimless Polarized Sunglasses Women Men Retro Brand Sun Glasses', 'Ray-Ban Rb3025 Aviator Classic Sunglasses', 'Joopin Unisex Polarized Sunglasses Men Women Retro Designer Sun Glasses', \"Jessica Simpson Women's J106 Metal Aviator Sunglasses with 100% UV Protection, 60 mm\", 'KastKing Iditarod Polarized Sport Sunglasses for Men and Women, Ideal for Driving Fishing Cycling and Running, UV Protection', 'Aviator Sunglasses for Men Polarized Women -MXNX UV Protection Lightweight Driving Fishing Sports Mens Sunglasses MX208', \"Maui Jim Women's Nalani Cat-Eye Sunglasses\", 'Carfia Chic Retro Polarized Womens Sunglasses UV400 Protection Hand-Polished Acetate Frame', 'RIVBOS Polarized Sports Sunglasses Driving shades For Men TR90 Unbreakable Frame RB831', \"Under Armour Men's Core 2.0 Sunglasses Shield\", \"Michael Kors Women's 0MK2024\", 'HULISLEM Blade Sport Polarized Sunglasses', \"MERRY'S Men's Polarized Driving Sunglasses For Men Unbreakable Frame UV400 S8513\", 'Joopin Semi Rimless Polarized Sunglasses Women Men Retro Brand Sun Glasses', 'Ray-Ban Rb4292n Blaze Double Bridge Square Sunglasses', 'Oakley Flak 2.0 XL OO9188 Sunglasses For Men+BUNDLE with Oakley Accessory Leash Kit', 'Huk Fishing Polarized Full Frame Sunglasses with Scratch Resistance and UV Protection', 'Suncloud Switchback Polarized Sunglass with Polycarbonate Lens', 'Suncloud Rambler Sunglasses', \"Ralph by Ralph Lauren Women's Ra5160 Cat Eye Sunglasses Rectangular\", \"Oakley Men's Oo9102 Holbrook Square Sunglasses\", 'CARFIA Classic Square Polarized Mens Sunglasses UV400 Protection Hand-Crafted Acetate Frame CA5354L', 'SOJOS Cat Eye Mirrored Flat Lenses Street Fashion Metal Frame Women Sunglasses SJ1001', 'SOJOS Mirrored Flat Lens Fashion Sunglasses for Women SJ1085', 'Ray-Ban Rb2132 New Wayfarer Sunglasses', 'SOJOS Fashion Round Sunglasses for Women with Rivet Plastic Frame DOLPHIN SJ2068', 'SUNGAIT Ultra Lightweight Rectangular Polarized Sunglasses UV400 Protection', 'Classic Sunglasses for women, Round/Square Retro Man Polarized Sunglasses uv Protection Aviator Mirrored Sun glasses', \"Polarized Sunglasses for Men Driving Sun glasses Shades 80's Retro Style Brand Design Square\", 'SUNIER Polarized Sunglasses for Men Retro Classic Square Frame Shades SR003']\n"
     ]
    }
   ],
   "source": []
  },
  {
   "cell_type": "code",
   "execution_count": 21,
   "metadata": {},
   "outputs": [
    {
     "name": "stdout",
     "output_type": "stream",
     "text": [
      "{\n",
      "    \"title\": [\n",
      "        \"Polarized Sunglasses Classic Men Women Retro Brand Designer Sun Glasses\\uff08No Slip, No Bounce, All Polarized\\uff09\",\n",
      "        \"ATTCL Men's Retro Metal Frame Driving Polarized Sunglasses For Men\",\n",
      "        \"Sports Polarized Sunglasses For Men Cycling Driving Fishing 100% UV Protection\",\n",
      "        \"DUCO Men's Luxury Carbon Fiber Temple Polarized Sunglasses for Men Sports UV400 DC8206\",\n",
      "        \"SUNGAIT Ultra Lightweight Rectangular Polarized Sunglasses UV400 Protection\",\n",
      "        \"Polarized Sunglasses for Men Retro - FEIDU Polarized Retro Sunglasses for Men FD2149\",\n",
      "        \"MERRY'S Unisex Polarized Aluminum Sunglasses Vintage Sun Glasses For Men/Women S8286\"\n",
      "    ],\n",
      "    \"price\": [\n",
      "        15.99,\n",
      "        25.0,\n",
      "        19.97,\n",
      "        35.0,\n",
      "        15.99,\n",
      "        11.98,\n",
      "        12.91\n",
      "    ],\n",
      "    \"availability\": [\n",
      "        \"Available\",\n",
      "        \"Available\",\n",
      "        \"Available\",\n",
      "        \"Available\",\n",
      "        \"Available\",\n",
      "        \"Available\",\n",
      "        \"Available\"\n",
      "    ],\n",
      "    \"score\": [\n",
      "        4.7,\n",
      "        4.4,\n",
      "        4.5,\n",
      "        4.4,\n",
      "        4.6,\n",
      "        4.4,\n",
      "        4.5\n",
      "    ],\n",
      "    \"number of reviews\": [\n",
      "        16,\n",
      "        3126,\n",
      "        3015,\n",
      "        1676,\n",
      "        12417,\n",
      "        3033,\n",
      "        13441\n",
      "    ],\n",
      "    \"image\": [\n",
      "        \"https://images-na.ssl-images-amazon.com/images/I/61GMidiixmL._AC_UL1500_.jpg\",\n",
      "        \"https://images-na.ssl-images-amazon.com/images/I/71mn3Iv6faL._AC_UL1500_.jpg\",\n",
      "        \"https://images-na.ssl-images-amazon.com/images/I/71cIY9yTMCL._AC_UL1500_.jpg\",\n",
      "        \"https://images-na.ssl-images-amazon.com/images/I/71WmGwywafL._AC_UL1500_.jpg\",\n",
      "        \"https://images-na.ssl-images-amazon.com/images/I/61PmcMlhksL._AC_UL1500_.jpg\",\n",
      "        \"https://images-na.ssl-images-amazon.com/images/I/61zL8epmQtL._AC_UL1100_.jpg\",\n",
      "        \"https://images-na.ssl-images-amazon.com/images/I/61ZhLl-4JPL._AC_UL1500_.jpg\"\n",
      "    ]\n",
      "}\n"
     ]
    }
   ],
   "source": [
    "jj = json.dumps({'title':titles,'price':prices,'availability':stock,'score':review_scores,'number of reviews':review_nums,'image':imgs},indent=4)\n",
    "print(jj)"
   ]
  },
  {
   "cell_type": "code",
   "execution_count": 22,
   "metadata": {},
   "outputs": [
    {
     "name": "stdout",
     "output_type": "stream",
     "text": [
      "Available 15.99 Polarized Sunglasses Classic Men Women Retro Brand Designer Sun Glasses（No Slip, No Bounce, All Polarized）\n"
     ]
    }
   ],
   "source": [
    "print(stock[0],prices[0],titles[0])"
   ]
  },
  {
   "cell_type": "code",
   "execution_count": 32,
   "metadata": {},
   "outputs": [],
   "source": [
    "# creating the DataFrame\n",
    "info = {'title':titles,'price':prices,'availability':stock,'score':review_scores,'number of reviews':review_nums,'image':imgs}\n",
    "df = pd.DataFrame.from_dict(info,orient='columns')\n",
    "df.to_json(r'D:\\Amazon_DataFrame.json')"
   ]
  },
  {
   "cell_type": "code",
   "execution_count": null,
   "metadata": {},
   "outputs": [],
   "source": []
  }
 ],
 "metadata": {
  "kernelspec": {
   "display_name": "Python 3",
   "language": "python",
   "name": "python3"
  },
  "language_info": {
   "codemirror_mode": {
    "name": "ipython",
    "version": 3
   },
   "file_extension": ".py",
   "mimetype": "text/x-python",
   "name": "python",
   "nbconvert_exporter": "python",
   "pygments_lexer": "ipython3",
   "version": "3.7.3"
  }
 },
 "nbformat": 4,
 "nbformat_minor": 2
}
